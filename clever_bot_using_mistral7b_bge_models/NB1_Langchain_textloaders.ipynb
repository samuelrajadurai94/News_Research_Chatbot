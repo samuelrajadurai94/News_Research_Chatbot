{
 "cells": [
  {
   "cell_type": "code",
   "execution_count": 1,
   "id": "cc7aea63",
   "metadata": {},
   "outputs": [],
   "source": [
    "import numpy as np"
   ]
  },
  {
   "cell_type": "code",
   "execution_count": 2,
   "id": "a6ff3075",
   "metadata": {},
   "outputs": [],
   "source": [
    "from langchain.document_loaders import TextLoader"
   ]
  },
  {
   "cell_type": "code",
   "execution_count": 3,
   "id": "14d39e66",
   "metadata": {},
   "outputs": [
    {
     "data": {
      "text/plain": [
       "[Document(page_content=\"The stock of NVIDIA Corp (NASDAQ:NVDA) experienced a daily loss of -3.56% and a 3-month gain of 32.35%. With an Earnings Per Share (EPS) (EPS) of $1.92, the question arises: is the stock significantly overvalued? This article aims to provide a detailed valuation analysis of NVIDIA, offering insights into its financial strength, profitability, growth, and more. We invite you to delve into this comprehensive analysis.\\n\\nCompany Overview\\nWarning! GuruFocus has detected 10 Warning Signs with NVDA. Click here to check it out.\\n\\nNVDA 30-Year Financial Data\\n\\nThe intrinsic value of NVDA\\n\\n\\nNVIDIA Corp (NASDAQ:NVDA) is a leading designer of discrete graphics processing units that enhance the experience on computing platforms. The firm's chips are widely used in various end markets, including PC gaming and data centers. In recent years, NVIDIA has broadened its focus from traditional PC graphics applications such as gaming to more complex and favorable opportunities, including artificial intelligence and autonomous driving, leveraging the high-performance capabilities of its products.\\n\\nCurrently, NVIDIA's stock price stands at $418.01, significantly higher than the GF Value of $310.28, indicating the stock might be overvalued. With a market cap of $1 trillion, the valuation seems steep. The following analysis aims to delve deeper into the company's value.\\n\\nIs NVIDIA's Stock Significantly Overvalued? A Comprehensive Valuation Analysis\\nIs NVIDIA's Stock Significantly Overvalued? A Comprehensive Valuation Analysis\\nUnderstanding the GF Value\\nThe GF Value is a unique measure of the intrinsic value of a stock, calculated based on historical trading multiples, a GuruFocus adjustment factor, and future business performance estimates. If the stock price is significantly above the GF Value Line, it is overvalued, and its future return is likely to be poor. Conversely, if it is significantly below the GF Value Line, its future return will likely be higher.\\n\\nAccording to GuruFocus Value calculation, NVIDIA (NASDAQ:NVDA) appears to be significantly overvalued. The stock's current price of $418.01 per share and the market cap of $1 trillion further strengthen this assumption.\\n\\nGiven that NVIDIA is significantly overvalued, the long-term return of its stock is likely to be much lower than its future business growth.\\n\\nIs NVIDIA's Stock Significantly Overvalued? A Comprehensive Valuation Analysis\\nIs NVIDIA's Stock Significantly Overvalued? A Comprehensive Valuation Analysis\\nLink: These companies may deliver higher future returns at reduced risk.\\n\\nFinancial Strength of NVIDIA\\nExamining the financial strength of a company is crucial before investing in its stock. Companies with poor financial strength pose a higher risk of permanent loss. NVIDIA's cash-to-debt ratio of 1.27 is worse than 58.04% of companies in the Semiconductors industry. However, NVIDIA's overall financial strength is 8 out of 10, indicating a strong financial position.\\n\\nIs NVIDIA's Stock Significantly Overvalued? A Comprehensive Valuation Analysis\\nIs NVIDIA's Stock Significantly Overvalued? A Comprehensive Valuation Analysis\\nProfitability and Growth\\nConsistent profitability over the long term reduces the risk for investors. NVIDIA, with its profitability ranking of 10 out of 10, has been profitable for the past 10 years. The company's operating margin of 17.37% ranks better than 76.5% of companies in the Semiconductors industry.\\n\\nHowever, growth is a crucial factor in a company's valuation. NVIDIA's growth ranks worse than 52.99% of companies in the Semiconductors industry, with its 3-year average revenue growth rate better than 87.88% of companies in the industry.\\n\\nROIC vs WACC\\nComparing a company's return on invested capital (ROIC) to its weighted average cost of capital (WACC) is an effective way to evaluate its profitability. Over the past 12 months, NVIDIA's ROIC was 20.32 while its WACC was 16.74, suggesting that the company is creating value for its shareholders.\\n\\nIs NVIDIA's Stock Significantly Overvalued? A Comprehensive Valuation Analysis\\nIs NVIDIA's Stock Significantly Overvalued? A Comprehensive Valuation Analysis\\nConclusion\\nIn conclusion, NVIDIA (NASDAQ:NVDA) appears to be significantly overvalued. Despite its strong financial condition and profitability, its growth ranks lower than 52.99% of companies in the Semiconductors industry. To learn more about NVIDIA stock, you can check out its 30-Year Financials here.\\n\\nTo find out the high quality companies that may deliver above-average returns, please check out GuruFocus High Quality Low Capex Screener.\\n\\nThis article first appeared on GuruFocus.\", metadata={'source': 'nvda_news_1.txt'})]"
      ]
     },
     "execution_count": 3,
     "metadata": {},
     "output_type": "execute_result"
    }
   ],
   "source": [
    "loader = TextLoader(\"nvda_news_1.txt\")\n",
    "loader.load()"
   ]
  },
  {
   "cell_type": "code",
   "execution_count": 4,
   "id": "5ab1b772",
   "metadata": {},
   "outputs": [
    {
     "data": {
      "text/plain": [
       "langchain.document_loaders.text.TextLoader"
      ]
     },
     "execution_count": 4,
     "metadata": {},
     "output_type": "execute_result"
    }
   ],
   "source": [
    "type(loader)"
   ]
  },
  {
   "cell_type": "code",
   "execution_count": null,
   "id": "d914a01b",
   "metadata": {},
   "outputs": [],
   "source": []
  },
  {
   "cell_type": "code",
   "execution_count": 5,
   "id": "e25e49f2",
   "metadata": {},
   "outputs": [],
   "source": [
    "# CSV LOADERS:\n",
    "from langchain.document_loaders.csv_loader import CSVLoader"
   ]
  },
  {
   "cell_type": "code",
   "execution_count": 6,
   "id": "0370d40e",
   "metadata": {},
   "outputs": [
    {
     "data": {
      "text/plain": [
       "[Document(page_content='movie_id: 101\\ntitle: K.G.F: Chapter 2\\nindustry: Bollywood\\nrelease_year: 2022\\nimdb_rating: 8.4\\nstudio: Hombale Films\\nlanguage_id: 3\\nbudget: 1\\nrevenue: 12.5\\nunit: Billions\\ncurrency: INR', metadata={'source': 'movies.csv', 'row': 0}),\n",
       " Document(page_content='movie_id: 102\\ntitle: Doctor Strange in the Multiverse of Madness\\nindustry: Hollywood\\nrelease_year: 2022\\nimdb_rating: 7\\nstudio: Marvel Studios\\nlanguage_id: 5\\nbudget: 200\\nrevenue: 954.8\\nunit: Millions\\ncurrency: USD', metadata={'source': 'movies.csv', 'row': 1}),\n",
       " Document(page_content='movie_id: 103\\ntitle: Thor: The Dark World\\nindustry: Hollywood\\nrelease_year: 2013\\nimdb_rating: 6.8\\nstudio: Marvel Studios\\nlanguage_id: 5\\nbudget: 165\\nrevenue: 644.8\\nunit: Millions\\ncurrency: USD', metadata={'source': 'movies.csv', 'row': 2}),\n",
       " Document(page_content='movie_id: 104\\ntitle: Thor: Ragnarok\\nindustry: Hollywood\\nrelease_year: 2017\\nimdb_rating: 7.9\\nstudio: Marvel Studios\\nlanguage_id: 5\\nbudget: 180\\nrevenue: 854\\nunit: Millions\\ncurrency: USD', metadata={'source': 'movies.csv', 'row': 3}),\n",
       " Document(page_content='movie_id: 105\\ntitle: Thor: Love and Thunder\\nindustry: Hollywood\\nrelease_year: 2022\\nimdb_rating: 6.8\\nstudio: Marvel Studios\\nlanguage_id: 5\\nbudget: 250\\nrevenue: 670\\nunit: Millions\\ncurrency: USD', metadata={'source': 'movies.csv', 'row': 4}),\n",
       " Document(page_content='movie_id: 106\\ntitle: Sholay\\nindustry: Bollywood\\nrelease_year: 1975\\nimdb_rating: 8.1\\nstudio: United Producers\\nlanguage_id: 1\\nbudget: Not Available\\nrevenue: Not Available\\nunit: Not Available\\ncurrency: Not Available', metadata={'source': 'movies.csv', 'row': 5}),\n",
       " Document(page_content='movie_id: 107\\ntitle: Dilwale Dulhania Le Jayenge\\nindustry: Bollywood\\nrelease_year: 1995\\nimdb_rating: 8\\nstudio: Yash Raj Films\\nlanguage_id: 1\\nbudget: 400\\nrevenue: 2000\\nunit: Millions\\ncurrency: INR', metadata={'source': 'movies.csv', 'row': 6}),\n",
       " Document(page_content='movie_id: 108\\ntitle: 3 Idiots\\nindustry: Bollywood\\nrelease_year: 2009\\nimdb_rating: 8.4\\nstudio: Vinod Chopra Films\\nlanguage_id: 1\\nbudget: 550\\nrevenue: 4000\\nunit: Millions\\ncurrency: INR', metadata={'source': 'movies.csv', 'row': 7}),\n",
       " Document(page_content='movie_id: 109\\ntitle: Kabhi Khushi Kabhie Gham\\nindustry: Bollywood\\nrelease_year: 2001\\nimdb_rating: 7.4\\nstudio: Dharma Productions\\nlanguage_id: 1\\nbudget: 390\\nrevenue: 1360\\nunit: Millions\\ncurrency: INR', metadata={'source': 'movies.csv', 'row': 8})]"
      ]
     },
     "execution_count": 6,
     "metadata": {},
     "output_type": "execute_result"
    }
   ],
   "source": [
    "loader = CSVLoader(file_path=\"movies.csv\")\n",
    "data = loader.load()\n",
    "data"
   ]
  },
  {
   "cell_type": "code",
   "execution_count": null,
   "id": "c6ff0ced",
   "metadata": {},
   "outputs": [],
   "source": []
  },
  {
   "cell_type": "markdown",
   "id": "19a35486",
   "metadata": {},
   "source": [
    "## UnstructuredURLLoader\n",
    "## UnstructuredURLLoader of Langchain internally uses unstructured python library to load the content from url's"
   ]
  },
  {
   "cell_type": "code",
   "execution_count": 7,
   "id": "41bd271c",
   "metadata": {},
   "outputs": [],
   "source": [
    "from langchain.document_loaders import UnstructuredURLLoader"
   ]
  },
  {
   "cell_type": "code",
   "execution_count": null,
   "id": "cab90eb6",
   "metadata": {},
   "outputs": [],
   "source": []
  },
  {
   "cell_type": "code",
   "execution_count": null,
   "id": "1de25207",
   "metadata": {},
   "outputs": [],
   "source": []
  },
  {
   "cell_type": "code",
   "execution_count": 8,
   "id": "7e956cd7",
   "metadata": {},
   "outputs": [],
   "source": [
    "loader = UnstructuredURLLoader(\n",
    "    urls = [\n",
    "        \"https://www.moneycontrol.com/news/business/banks/hdfc-bank-re-appoints-sanmoy-chakrabarti-as-chief-risk-officer-11259771.html\",\n",
    "        \"https://www.moneycontrol.com/news/business/markets/market-corrects-post-rbi-ups-inflation-forecast-icrr-bet-on-these-top-10-rate-sensitive-stocks-ideas-11142611.html\"\n",
    "    ]\n",
    ")"
   ]
  },
  {
   "cell_type": "code",
   "execution_count": 9,
   "id": "8a6f02b1",
   "metadata": {},
   "outputs": [
    {
     "name": "stderr",
     "output_type": "stream",
     "text": [
      "libmagic is unavailable but assists in filetype detection on file-like objects. Please consider installing libmagic for better results.\n",
      "Error fetching or processing https://www.moneycontrol.com/news/business/banks/hdfc-bank-re-appoints-sanmoy-chakrabarti-as-chief-risk-officer-11259771.html, exception: Invalid file. The FileType.UNK file type is not supported in partition.\n",
      "libmagic is unavailable but assists in filetype detection on file-like objects. Please consider installing libmagic for better results.\n",
      "Error fetching or processing https://www.moneycontrol.com/news/business/markets/market-corrects-post-rbi-ups-inflation-forecast-icrr-bet-on-these-top-10-rate-sensitive-stocks-ideas-11142611.html, exception: Invalid file. The FileType.UNK file type is not supported in partition.\n"
     ]
    },
    {
     "data": {
      "text/plain": [
       "0"
      ]
     },
     "execution_count": 9,
     "metadata": {},
     "output_type": "execute_result"
    }
   ],
   "source": [
    "data = loader.load()\n",
    "len(data)"
   ]
  },
  {
   "cell_type": "code",
   "execution_count": null,
   "id": "bb5b07e9",
   "metadata": {},
   "outputs": [],
   "source": [
    "# importing certain packages required to load the url:\n",
    "import nltk\n",
    "nltk.download('punkt_tab')\n",
    " nltk.download('averaged_perceptron_tagger_eng')"
   ]
  },
  {
   "cell_type": "code",
   "execution_count": 10,
   "id": "d0f6ea3e",
   "metadata": {},
   "outputs": [],
   "source": [
    "loader_1 = UnstructuredURLLoader(\n",
    "    urls = [\n",
    "        'https://www.coursera.org/articles/software-engineer'\n",
    "    ]\n",
    ")"
   ]
  },
  {
   "cell_type": "code",
   "execution_count": 16,
   "id": "5de86085",
   "metadata": {},
   "outputs": [
    {
     "data": {
      "text/plain": [
       "1"
      ]
     },
     "execution_count": 16,
     "metadata": {},
     "output_type": "execute_result"
    }
   ],
   "source": [
    "data_1 = loader_1.load()\n",
    "len(data_1)"
   ]
  },
  {
   "cell_type": "code",
   "execution_count": 17,
   "id": "8dd82a3a",
   "metadata": {},
   "outputs": [
    {
     "data": {
      "text/plain": [
       "[Document(page_content='For IndividualsFor BusinessesFor UniversitiesFor GovernmentsExploreOnline DegreesFind your New CareerLog InJoin for FreeShow notifications0\\n\\n\\n\\nComputer Science and Engineering\\n\\nSoftware Development\\n\\nWhat Does a Software Engineer Do?\\n\\nWhat Does a Software Engineer Do?\\n\\nWritten by Coursera Staff • Updated on Mar 29, 2024\\n\\nSoftware engineers design and create computer systems and applications to solve real-world problems.\\n\\nSoftware engineers design, develop, and test software applications and computer systems. If you’re an analytical thinker who enjoys solving problems and making technology easier to use, you may find a career as a software engineer rewarding.\\n\\nWhat is software engineering?\\n\\nSoftware engineering is the branch of computer science that deals with the design, development, testing, and maintenance of software applications. Software engineers apply engineering principles and knowledge of programming languages to build software solutions for end users.\\n\\nWhat do software engineers do?\\n\\nSuccessful engineers know how to use the right programming languages, platforms, and architectures to develop everything from computer games to network control systems. In addition to building their own systems, software engineers also test, improve, and maintain software built by other engineers.\\n\\n\"I get excited about anything that involves solving problems, whether it be figuring out how to optimize a certain part of an existing application or entirely coming up with new applications to solve certain needs,\" says Murtadha Al-Tameemi, a software engineer at Meta. \"Problems in general stimulate my brain and give me a great sense of satisfaction.\"\\n\\nIn this role, your day-to-day tasks might include:\\n\\nDesigning and maintaining software systems\\n\\nEvaluating and testing new software programs\\n\\nOptimizing software for speed and scalability\\n\\nWriting and testing code\\n\\nConsulting with clients, engineers, security specialists, and other stakeholders\\n\\nPresenting new features to stakeholders and internal customers\\n\\nYou can learn software engineering from Meta in just 7 months by enrolling in the Meta Front-End Developer Professional Certificate program:\\n\\nSystems developer vs. application developer\\n\\nSoftware engineers will usually fall into one of two categories, systems engineers or application developers.\\n\\nAs a systems engineer, you’ll build things like computer systems and networks that applications need to function. You can do this by:\\n\\nEnsuring that different types of software programs communicate with each other on one platform\\n\\nCreating and enforcing IT standards within an infrastructure\\n\\nMaintaining documentation of IT systems\\n\\nUpdating to new technologies as needed\\n\\nCollaborating with development teams, senior systems architects, and data science professionals\\n\\nRead more: What Are Computer Information Systems? Definition, Degree, and Careers\\n\\nWorking as an application developer is more client-focused. You may work on either the front or back end of the system, designing software that the end user will interact with. Tasks might include:\\n\\nDeveloping applications for iOS, Android, Windows, or other operating systems\\n\\nConducting an analysis of requirements and tweaking software as needed\\n\\nReleasing software updates\\n\\nWorking with graphic designers, customer service staff, project managers, and other customer-facing departments\\n\\nIf you\\'re interested in a more administrative software engineering position, learning technical project management strategies like DevOps is an excellent place to start. You can familiarize yourself with DevOps and the software engineering life cycle while earning a Professional Certificate for your resume by enrolling in the following online program:\\n\\nRead more: Software Developer vs. Software Engineer: What Are the Differences in These Roles\\n\\nIs software engineering a good career?\\n\\nIf you enjoy solving problems and have strong analytical skills, a career as a software engineer can be both fun and challenging. As technology continues to evolve, the need for software developers continues to grow much faster than the national average [1].\\n\\nChoosing a career as a software engineer gives you opportunities to work in many different industries and fields, as nearly all businesses use software. Whether you enjoy finances, entertainment, sports, real estate, or some other industry, there’s a good chance there are jobs for software engineers.\\n\\nIt’s also a career that allows flexibility in where you work. You may be able to work from home for companies in other states or even other countries. The important thing is that you’re able to meet deadlines and deliver a project on time.\\n\\nHow much do software engineers make?\\n\\nWorking as a software engineer can be challenging and engaging, and it also tends to pay well. The annual median software engineer salary in 2022 was $124,200, according to the US Bureau of Labor Statistics (BLS) [1]. Jobs in software publishing tend to draw the biggest salaries.\\n\\nCareer paths in software engineering\\n\\nOnce you become a software engineer, you can choose which path you want to take (applications or systems) and how far you want to progress with it. You can decide to advance toward a role as a senior software engineer, or you can continue gaining certifications and experience to advance to roles like IT project manager or systems manager. As a software engineer, you have both flexibility and mobility to create the career experience that is most appealing to you.\\n\\nAspiring software engineers who haven\\'t yet chosen a specialization can benefit from foundational training. You can master the basics in just two months by enrolling in IBM\\'s flexible online program:\\n\\nHow to become a software engineer\\n\\nGetting a job as a software engineer typically involves building the right technical and workplace skills. Some jobs might also require a certain degree or certification to validate your skills. However, there are many ways to enhance your skill set.\\n\\n\"Although I did have a formal education, taking online classes on how to build mobile apps, doing internships where I work on projects at a company, and trying to build my own side projects was the most helpful,\" says Laila Rizvi, a software engineer at Meta.\\n\\nLet’s take a closer look at some of the requirements for becoming a software engineer.\\n\\nSoftware engineering skills\\n\\nAs a software developer, you’ll be designing software to help solve problems that real people face. This requires a combination of technical know-how and solid communication skills. If you’re considering this as a career, here are some skills you should focus on building:\\n\\nCoding languages like Python, Java, C, C++, or Scala\\n\\nObject-oriented programming\\n\\nDatabase architecture\\n\\nAgile and Scrum project management\\n\\nOperating systems\\n\\nCloud computing\\n\\nVersion control\\n\\nDesign testing and debugging\\n\\nAttention to detail\\n\\nRead more: How to Become a Software Developer | 9 Tips\\n\\nSoftware engineering certifications\\n\\nBy earning a certification, you can build new skills and validate those skills to potential employers. Some jobs might require a specific certification, so it’s a good idea to research some job listings of roles you’re interested in before preparing for a certification exam. Here are some common options:\\n\\nCertified Software Development Professional (CSDP)\\n\\nCertified Software Engineer\\n\\nC Certified Professional Programmer (CLP)\\n\\nC++ Certified Professional Programmer (CPP)\\n\\nAWS Certified Developer\\n\\nMicrosoft Certified: Azure Fundamentals\\n\\nDo I need a degree to be a software engineer?\\n\\nA bachelor’s degree in computer science or a related degree program is a common entry-level requirement for software engineers. However, a degree isn’t the only path toward a development job. Some employers accept alternative credentials such as certifications and equivalent experience in lieu of a degree. Research job postings for positions you\\'re interested in to determine whether or not a degree is essential for your career path.\\n\\nBecome a software engineer with Coursera\\n\\nYou can take the next step toward a career in software engineering with one of these top-rated courses and certificate programs on Coursera:\\n\\nBuild job-ready skills with an industry expert by enrolling in IBM\\'s DevOps and Software Engineering Professional Certificate. You\\'ll create applications in Python using essential tools and frameworks while learning to work productively on a team through Agile, DevOps, and Scrum methodologies.\\n\\nIntroduce yourself to core software engineering concepts with an accredited university through Duke University\\'s Java Programming and Software Engineering Fundamentals Specialization. You\\'ll practice essential programming skills and build web pages using Java, CSS, and HTML, as well as learn the principles of software design.\\n\\nTo enhance your existing skill set and prepare for a more advanced role, consider enrolling in the Hong Kong University of Science and Technology\\'s Software Engineering Specialization. In addition to sharpening your engineering skills, you\\'ll learn software project management, software design, and system engineering.\\n\\nArticle sources\\n\\nUS Bureau of Labor Statistics. \"Software Developers, Quality Assurance Analysts, and Testers, https://www.bls.gov/ooh/computer-and-information-technology/software-developers.htm.\" Accessed March 15, 2024.\\n\\nKeep reading\\n\\n\\n\\n\\n\\n\\n\\n\\n\\n\\n\\n\\n\\nUpdated on Mar 29, 2024\\n\\nWritten by:\\n\\nCoursera Staff\\n\\nEditorial Team\\n\\nCoursera’s editorial team is comprised of highly experienced professional editors, writers, and fact...\\n\\nThis content has been made available for informational purposes only. Learners are advised to conduct additional research to ensure that courses and other credentials pursued meet their personal, professional, and financial goals.\\n\\nCoursera Footer\\n\\nGet Started with AI\\n\\nAWS & DLAI GenAI with LLMs Course\\n\\nDLAI AI For Everyone Course\\n\\nDLAI Deep Learning Specialization\\n\\nDLAI NLP Specialization\\n\\nGoogle AI Essentials Course\\n\\nGoogle Cloud Introduction to Generative AI Course\\n\\nIBM Generative AI Fundamentals Specialization\\n\\nStanford AI in Healthcare Specialization\\n\\nStanford Machine Learning Specialization\\n\\nVanderbilt Prompt Engineering for ChatGPT Course\\n\\nPopular Career Certificates\\n\\nGoogle Cybersecurity Professional Certificate\\n\\nGoogle Data Analytics Professional Certificate\\n\\nGoogle Digital Marketing Professional Certificate\\n\\nGoogle Project Management Professional Certificate\\n\\nGoogle UX Design Professional Certificate\\n\\nIBM Data Analyst Professional Certificate\\n\\nIBM Data Science Professional Certificate\\n\\nMeta Front-End Developer Professional Certificate\\n\\nMicrosoft Power BI Data Analyst Professional Certificate\\n\\nAll Career Certificates\\n\\nPopular Subjects\\n\\nArtificial Intelligence\\n\\nCybersecurity\\n\\nData Analytics\\n\\nData Science\\n\\nDigital Marketing\\n\\nGenerative AI\\n\\nMachine Learning\\n\\nMicrosoft Excel\\n\\nProject Management\\n\\nPython\\n\\nAll Courses\\n\\nPopular Resources\\n\\nHow to Become a Data Analyst\\n\\nHow to Get a PMP Certification\\n\\nPopular Cybersecurity Certifications\\n\\nPopular Data Analytics Certifications\\n\\nPopular IT Certifications\\n\\nPopular Machine Learning Certifications\\n\\nPopular SQL Certifications\\n\\nGenAI for Software Developers\\n\\nGenAI for Data Professionals\\n\\nCareer Insights & Advice Hub\\n\\nCoursera\\n\\nAbout\\n\\nWhat We Offer\\n\\nLeadership\\n\\nCareers\\n\\nCatalog\\n\\nCoursera Plus\\n\\nProfessional Certificates\\n\\nMasterTrack® Certificates\\n\\nDegrees\\n\\nFor Enterprise\\n\\nFor Government\\n\\nFor Campus\\n\\nBecome a Partner\\n\\nSocial Impact\\n\\nFree Courses\\n\\nECTS Credit Recommendations\\n\\nCommunity\\n\\nLearners\\n\\nPartners\\n\\nBeta Testers\\n\\nBlog\\n\\nThe Coursera Podcast\\n\\nTech Blog\\n\\nTeaching Center\\n\\nMore\\n\\nPress\\n\\nInvestors\\n\\nTerms\\n\\nPrivacy\\n\\nHelp\\n\\nAccessibility\\n\\nContact\\n\\nArticles\\n\\nDirectory\\n\\nAffiliates\\n\\nModern Slavery Statement\\n\\nManage Cookie Preferences\\n\\nLearn Anywhere\\n\\n© 2024 Coursera Inc. All rights reserved.\\n\\n\\n\\n\\n\\n\\n\\n\\n\\n\\n\\n', metadata={'source': 'https://www.coursera.org/articles/software-engineer'})]"
      ]
     },
     "execution_count": 17,
     "metadata": {},
     "output_type": "execute_result"
    }
   ],
   "source": [
    "data_1"
   ]
  },
  {
   "cell_type": "markdown",
   "id": "7d756508",
   "metadata": {},
   "source": [
    "# Text Splitters\n",
    "\n",
    "Why do we need text splitters in first place?\n",
    "\n",
    "LLM's have token limits. Hence we need to split the text which can be large into small chunks so that each chunk size is under the token limit. There are various text splitter classes in langchain that allows us to do this."
   ]
  },
  {
   "cell_type": "code",
   "execution_count": 18,
   "id": "4eb54a56",
   "metadata": {},
   "outputs": [],
   "source": [
    "# Taking some random text from wikipedia\n",
    "\n",
    "text = \"\"\"Interstellar is a 2014 epic science fiction film co-written, directed, and produced by Christopher Nolan. \n",
    "It stars Matthew McConaughey, Anne Hathaway, Jessica Chastain, Bill Irwin, Ellen Burstyn, Matt Damon, and Michael Caine. \n",
    "Set in a dystopian future where humanity is embroiled in a catastrophic blight and famine, the film follows a group of astronauts who travel through a wormhole near Saturn in search of a new home for humankind.\n",
    "\n",
    "Brothers Christopher and Jonathan Nolan wrote the screenplay, which had its origins in a script Jonathan developed in 2007 and was originally set to be directed by Steven Spielberg. \n",
    "Kip Thorne, a Caltech theoretical physicist and 2017 Nobel laureate in Physics,[4] was an executive producer, acted as a scientific consultant, and wrote a tie-in book, The Science of Interstellar. \n",
    "Cinematographer Hoyte van Hoytema shot it on 35 mm movie film in the Panavision anamorphic format and IMAX 70 mm. Principal photography began in late 2013 and took place in Alberta, Iceland, and Los Angeles. \n",
    "Interstellar uses extensive practical and miniature effects, and the company Double Negative created additional digital effects.\n",
    "\n",
    "Interstellar premiered in Los Angeles on October 26, 2014. In the United States, it was first released on film stock, expanding to venues using digital projectors. The film received generally positive reviews from critics and grossed over $677 million worldwide ($715 million after subsequent re-releases), making it the tenth-highest-grossing film of 2014. \n",
    "It has been praised by astronomers for its scientific accuracy and portrayal of theoretical astrophysics.[5][6][7] Interstellar was nominated for five awards at the 87th Academy Awards, winning Best Visual Effects, and received numerous other accolades.\"\"\""
   ]
  },
  {
   "cell_type": "code",
   "execution_count": 19,
   "id": "4cc1c131",
   "metadata": {},
   "outputs": [
    {
     "data": {
      "text/plain": [
       "264"
      ]
     },
     "execution_count": 19,
     "metadata": {},
     "output_type": "execute_result"
    }
   ],
   "source": [
    "# we can use Python's split funciton\n",
    "\n",
    "words = text.split(\" \")\n",
    "len(words)"
   ]
  },
  {
   "cell_type": "code",
   "execution_count": 20,
   "id": "21351bb3",
   "metadata": {},
   "outputs": [],
   "source": [
    "# Creating chunks with max word limit = 200\n",
    "chunks = []\n",
    "\n",
    "s = \"\"\n",
    "for word in words:\n",
    "    s += word + \" \"\n",
    "    if len(s)>200:\n",
    "        chunks.append(s)\n",
    "        s = \"\"\n",
    "        \n",
    "chunks.append(s)"
   ]
  },
  {
   "cell_type": "code",
   "execution_count": 21,
   "id": "079241c2",
   "metadata": {},
   "outputs": [
    {
     "data": {
      "text/plain": [
       "['Interstellar is a 2014 epic science fiction film co-written, directed, and produced by Christopher Nolan. \\nIt stars Matthew McConaughey, Anne Hathaway, Jessica Chastain, Bill Irwin, Ellen Burstyn, Matt ',\n",
       " 'Damon, and Michael Caine. \\nSet in a dystopian future where humanity is embroiled in a catastrophic blight and famine, the film follows a group of astronauts who travel through a wormhole near Saturn in ',\n",
       " 'search of a new home for humankind.\\n\\nBrothers Christopher and Jonathan Nolan wrote the screenplay, which had its origins in a script Jonathan developed in 2007 and was originally set to be directed by ',\n",
       " 'Steven Spielberg. \\nKip Thorne, a Caltech theoretical physicist and 2017 Nobel laureate in Physics,[4] was an executive producer, acted as a scientific consultant, and wrote a tie-in book, The Science of ',\n",
       " 'Interstellar. \\nCinematographer Hoyte van Hoytema shot it on 35 mm movie film in the Panavision anamorphic format and IMAX 70 mm. Principal photography began in late 2013 and took place in Alberta, Iceland, ',\n",
       " 'and Los Angeles. \\nInterstellar uses extensive practical and miniature effects, and the company Double Negative created additional digital effects.\\n\\nInterstellar premiered in Los Angeles on October 26, ',\n",
       " '2014. In the United States, it was first released on film stock, expanding to venues using digital projectors. The film received generally positive reviews from critics and grossed over $677 million worldwide ',\n",
       " '($715 million after subsequent re-releases), making it the tenth-highest-grossing film of 2014. \\nIt has been praised by astronomers for its scientific accuracy and portrayal of theoretical astrophysics.[5][6][7] ',\n",
       " 'Interstellar was nominated for five awards at the 87th Academy Awards, winning Best Visual Effects, and received numerous other accolades. ']"
      ]
     },
     "execution_count": 21,
     "metadata": {},
     "output_type": "execute_result"
    }
   ],
   "source": [
    "chunks"
   ]
  },
  {
   "cell_type": "code",
   "execution_count": 22,
   "id": "ad257f1c",
   "metadata": {},
   "outputs": [
    {
     "data": {
      "text/plain": [
       "9"
      ]
     },
     "execution_count": 22,
     "metadata": {},
     "output_type": "execute_result"
    }
   ],
   "source": [
    "len(chunks)"
   ]
  },
  {
   "cell_type": "markdown",
   "id": "136da27d",
   "metadata": {},
   "source": [
    "Splitting data into chunks can be done in native python but it is a tidious process. Also if necessary, you may need to experiment with various delimiters in an iterative manner to ensure that each chunk does not exceed the token length limit of the respective LLM.\n",
    "\n",
    "Langchain provides a better way through text splitter classes."
   ]
  },
  {
   "cell_type": "markdown",
   "id": "2b003f78",
   "metadata": {},
   "source": [
    "### Using Text Splitter Classes from Langchain\n",
    "\n",
    "### CharacterTextSplitter"
   ]
  },
  {
   "cell_type": "code",
   "execution_count": 23,
   "id": "5966f9aa",
   "metadata": {},
   "outputs": [],
   "source": [
    "from langchain.text_splitter import CharacterTextSplitter\n",
    "\n",
    "splitter = CharacterTextSplitter(\n",
    "    separator = \"\\n\",\n",
    "    chunk_size=200,\n",
    "    chunk_overlap=0\n",
    ")"
   ]
  },
  {
   "cell_type": "code",
   "execution_count": 24,
   "id": "b5cbab9c",
   "metadata": {},
   "outputs": [
    {
     "name": "stderr",
     "output_type": "stream",
     "text": [
      "Created a chunk of size 210, which is longer than the specified 200\n",
      "Created a chunk of size 208, which is longer than the specified 200\n",
      "Created a chunk of size 358, which is longer than the specified 200\n"
     ]
    },
    {
     "data": {
      "text/plain": [
       "9"
      ]
     },
     "execution_count": 24,
     "metadata": {},
     "output_type": "execute_result"
    }
   ],
   "source": [
    "chunks = splitter.split_text(text)\n",
    "len(chunks)"
   ]
  },
  {
   "cell_type": "code",
   "execution_count": 25,
   "id": "fb8a3679",
   "metadata": {},
   "outputs": [
    {
     "name": "stdout",
     "output_type": "stream",
     "text": [
      "105\n",
      "120\n",
      "210\n",
      "181\n",
      "197\n",
      "207\n",
      "128\n",
      "357\n",
      "253\n"
     ]
    }
   ],
   "source": [
    "for chunk in chunks:\n",
    "    print(len(chunk))"
   ]
  },
  {
   "cell_type": "markdown",
   "id": "a8ffe39a",
   "metadata": {},
   "source": [
    "As you can see, all though we gave 200 as a chunk size since the split was based on \\n, it ended up creating chunks that are bigger than size 200.\n",
    "\n",
    "Another class from Langchain can be used to recursively split the text based on a list of separators. This class is RecursiveTextSplitter. Let's see how it works"
   ]
  },
  {
   "cell_type": "code",
   "execution_count": 26,
   "id": "91ae9151",
   "metadata": {},
   "outputs": [
    {
     "data": {
      "text/plain": [
       "'Interstellar is a 2014 epic science fiction film co-written, directed, and produced by Christopher Nolan. \\nIt stars Matthew McConaughey, Anne Hathaway, Jessica Chastain, Bill Irwin, Ellen Burstyn, Matt Damon, and Michael Caine. \\nSet in a dystopian future where humanity is embroiled in a catastrophic blight and famine, the film follows a group of astronauts who travel through a wormhole near Saturn in search of a new home for humankind.\\n\\nBrothers Christopher and Jonathan Nolan wrote the screenplay, which had its origins in a script Jonathan developed in 2007 and was originally set to be directed by Steven Spielberg. \\nKip Thorne, a Caltech theoretical physicist and 2017 Nobel laureate in Physics,[4] was an executive producer, acted as a scientific consultant, and wrote a tie-in book, The Science of Interstellar. \\nCinematographer Hoyte van Hoytema shot it on 35 mm movie film in the Panavision anamorphic format and IMAX 70 mm. Principal photography began in late 2013 and took place in Alberta, Iceland, and Los Angeles. \\nInterstellar uses extensive practical and miniature effects, and the company Double Negative created additional digital effects.\\n\\nInterstellar premiered in Los Angeles on October 26, 2014. In the United States, it was first released on film stock, expanding to venues using digital projectors. The film received generally positive reviews from critics and grossed over $677 million worldwide ($715 million after subsequent re-releases), making it the tenth-highest-grossing film of 2014. \\nIt has been praised by astronomers for its scientific accuracy and portrayal of theoretical astrophysics.[5][6][7] Interstellar was nominated for five awards at the 87th Academy Awards, winning Best Visual Effects, and received numerous other accolades.'"
      ]
     },
     "execution_count": 26,
     "metadata": {},
     "output_type": "execute_result"
    }
   ],
   "source": [
    "text"
   ]
  },
  {
   "cell_type": "code",
   "execution_count": 27,
   "id": "5576e1bd",
   "metadata": {},
   "outputs": [],
   "source": [
    "from langchain.text_splitter import RecursiveCharacterTextSplitter\n",
    "\n",
    "r_splitter = RecursiveCharacterTextSplitter(\n",
    "    separators = [\"\\n\\n\", \"\\n\", \" \"],  # List of separators based on requirement (defaults to [\"\\n\\n\", \"\\n\", \" \"])\n",
    "    chunk_size = 200,  # size of each chunk created\n",
    "    chunk_overlap  = 0,  # size of  overlap between chunks in order to maintain the context\n",
    "    length_function = len  # Function to calculate size, currently we are using \"len\" which denotes length of string however you can pass any token counter)\n",
    ")"
   ]
  },
  {
   "cell_type": "code",
   "execution_count": 28,
   "id": "14c9c2e3",
   "metadata": {},
   "outputs": [
    {
     "name": "stdout",
     "output_type": "stream",
     "text": [
      "105\n",
      "120\n",
      "199\n",
      "10\n",
      "181\n",
      "197\n",
      "198\n",
      "8\n",
      "128\n",
      "191\n",
      "165\n",
      "198\n",
      "54\n"
     ]
    }
   ],
   "source": [
    "chunks = r_splitter.split_text(text)\n",
    "\n",
    "for chunk in chunks:\n",
    "    print(len(chunk))"
   ]
  },
  {
   "cell_type": "code",
   "execution_count": 30,
   "id": "f9ed1321",
   "metadata": {},
   "outputs": [
    {
     "data": {
      "text/plain": [
       "3"
      ]
     },
     "execution_count": 30,
     "metadata": {},
     "output_type": "execute_result"
    }
   ],
   "source": [
    "first_split = text.split(\"\\n\\n\")\n",
    "len(first_split)"
   ]
  },
  {
   "cell_type": "code",
   "execution_count": 31,
   "id": "e633229f",
   "metadata": {},
   "outputs": [
    {
     "data": {
      "text/plain": [
       "'Interstellar is a 2014 epic science fiction film co-written, directed, and produced by Christopher Nolan. \\nIt stars Matthew McConaughey, Anne Hathaway, Jessica Chastain, Bill Irwin, Ellen Burstyn, Matt Damon, and Michael Caine. \\nSet in a dystopian future where humanity is embroiled in a catastrophic blight and famine, the film follows a group of astronauts who travel through a wormhole near Saturn in search of a new home for humankind.'"
      ]
     },
     "execution_count": 31,
     "metadata": {},
     "output_type": "execute_result"
    }
   ],
   "source": [
    "first_split[0]"
   ]
  },
  {
   "cell_type": "code",
   "execution_count": 33,
   "id": "2f2a1679",
   "metadata": {},
   "outputs": [
    {
     "data": {
      "text/plain": [
       "['Interstellar is a 2014 epic science fiction film co-written, directed, and produced by Christopher Nolan. ',\n",
       " 'It stars Matthew McConaughey, Anne Hathaway, Jessica Chastain, Bill Irwin, Ellen Burstyn, Matt Damon, and Michael Caine. ',\n",
       " 'Set in a dystopian future where humanity is embroiled in a catastrophic blight and famine, the film follows a group of astronauts who travel through a wormhole near Saturn in search of a new home for humankind.']"
      ]
     },
     "execution_count": 33,
     "metadata": {},
     "output_type": "execute_result"
    }
   ],
   "source": [
    "second_split = first_split[0].split(\"\\n\")\n",
    "second_split"
   ]
  },
  {
   "cell_type": "code",
   "execution_count": 34,
   "id": "284e1ecc",
   "metadata": {},
   "outputs": [
    {
     "data": {
      "text/plain": [
       "3"
      ]
     },
     "execution_count": 34,
     "metadata": {},
     "output_type": "execute_result"
    }
   ],
   "source": [
    "len(second_split)"
   ]
  },
  {
   "cell_type": "code",
   "execution_count": 35,
   "id": "1a37021a",
   "metadata": {},
   "outputs": [
    {
     "name": "stdout",
     "output_type": "stream",
     "text": [
      "106\n",
      "121\n",
      "210\n"
     ]
    }
   ],
   "source": [
    "for split in second_split:\n",
    "    print(len(split))"
   ]
  },
  {
   "cell_type": "code",
   "execution_count": null,
   "id": "e1e8883c",
   "metadata": {},
   "outputs": [],
   "source": []
  }
 ],
 "metadata": {
  "kernelspec": {
   "display_name": "Python 3 (ipykernel)",
   "language": "python",
   "name": "python3"
  },
  "language_info": {
   "codemirror_mode": {
    "name": "ipython",
    "version": 3
   },
   "file_extension": ".py",
   "mimetype": "text/x-python",
   "name": "python",
   "nbconvert_exporter": "python",
   "pygments_lexer": "ipython3",
   "version": "3.10.9"
  }
 },
 "nbformat": 4,
 "nbformat_minor": 5
}
